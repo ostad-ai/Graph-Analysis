{
 "cells": [
  {
   "cell_type": "markdown",
   "id": "10b8c967",
   "metadata": {},
   "source": [
    "# Graph Analysis\n",
    "### Depth-first search\n",
    "**Depth-first search** (DFS) is one of the fundamental *graph traversal* algorithms. A DFS explores one path deep as far as possible, and then it backtracks if it hits a dead end. In this case, it continues exploring other unvisited paths.\n",
    "We can implement DFS in two versions:\n",
    "- **Recursive DFS:** We use a **recursive** function.\n",
    "- **Iterative DFS:** We use a **stack** to hold unvisited neighbors.\n",
    "\n",
    "<hr>\n",
    "\n",
    "Some key points about DFS:\n",
    "- **Time complexity:** If we use an adjacenc list for a graph $G=(V,E)$, we need to explore each node and each edge. Thus, the time complexity is $O(|V|+|E|)$.\n",
    "- **Space complexity:** The space complexity for graph $G=(V,E)$ is $O(|V|)$.\n",
    "- **Completeness:** If the graph is finite, completeness is guaranteed for a DFS with **cycle detection**.\n",
    "\n",
    "**Reminder:** **Completeness** in search algorithms refers to whether the algorithm is guaranteed to find a solution if one exists.\n",
    "\n",
    "<hr>\n",
    "\n",
    "In the following, we review the DFS in two versions: **recursive** and **iterative**. Then, we use DFS for finding a path from a start node to a target node. Also, we extend the code to find all paths from a start node to a target node. Finally, we use **NetworkX** to display the graph used in the examples.\n",
    "<hr>\n",
    "\n",
    "https://github.com/ostad-ai/Graph-Analysis\n",
    "<br>Explanation in English :https://www.pinterest.com/HamedShahHosseini/graph-analysis/"
   ]
  },
  {
   "cell_type": "code",
   "execution_count": 1,
   "id": "28d70d5e",
   "metadata": {},
   "outputs": [],
   "source": [
    "# Import required module to display graphs\n",
    "import networkx as nx"
   ]
  },
  {
   "cell_type": "code",
   "execution_count": 2,
   "id": "b6f37fca",
   "metadata": {},
   "outputs": [],
   "source": [
    "# Define the DFS in recursive mode\n",
    "def dfs_recursive(graph, node, visited=None):\n",
    "    '''graph: an adjacency list '''\n",
    "    '''node: start node to begin search from'''\n",
    "    if visited is None:\n",
    "        visited = set()\n",
    "\n",
    "    # Mark current node as visited\n",
    "    visited.add(node)\n",
    "    print(node,end=', ')  # Process the node\n",
    "\n",
    "    # Visit all unvisited neighbors\n",
    "    for neighbor in graph[node]:\n",
    "        if neighbor not in visited:\n",
    "            dfs_recursive(graph, neighbor, visited)"
   ]
  },
  {
   "cell_type": "code",
   "execution_count": 3,
   "id": "9ee265b7",
   "metadata": {},
   "outputs": [
    {
     "name": "stdout",
     "output_type": "stream",
     "text": [
      "DFS (recursive) traversal starting from A:\n",
      "A, B, D, E, C, F, "
     ]
    }
   ],
   "source": [
    "# Example graph (adjacency list)\n",
    "\n",
    "#     A\n",
    "#    / \\\n",
    "#   B   C\n",
    "#  /   / \\\n",
    "# D --E --F\n",
    "\n",
    "graph = {\n",
    "    'A': ['B', 'C'],\n",
    "    'B': ['A', 'D'],\n",
    "    'C': ['A', 'E', 'F'],\n",
    "    'D': ['B','E'],\n",
    "    'E': ['C','D'],\n",
    "    'F': ['C']\n",
    "}\n",
    "\n",
    "start='A'\n",
    "print(f\"DFS (recursive) traversal starting from {start}:\")\n",
    "dfs_recursive(graph, start)"
   ]
  },
  {
   "cell_type": "code",
   "execution_count": 4,
   "id": "ae8d4ebd",
   "metadata": {},
   "outputs": [
    {
     "name": "stdout",
     "output_type": "stream",
     "text": [
      "DFS (iterative) traversal starting from A:\n",
      "A, B, D, E, C, F, "
     ]
    }
   ],
   "source": [
    "# Define DFS in iterative mode\n",
    "def dfs_iterative(graph, start):\n",
    "    '''graph: an adjacency list '''\n",
    "    '''start: is the start node to search from'''\n",
    "    visited = set()\n",
    "    stack = [start]\n",
    "    \n",
    "    while stack:\n",
    "        node = stack.pop()\n",
    "        if node not in visited:\n",
    "            visited.add(node)\n",
    "            print(node,end=', ')  # Process the node\n",
    "            \n",
    "            # Add unvisited neighbors to stack\n",
    "            # in reverse order to match recursive order\n",
    "            for neighbor in reversed(graph[node]):  \n",
    "                if neighbor not in visited:\n",
    "                    stack.append(neighbor)\n",
    "    \n",
    "    return \n",
    "\n",
    "# Example\n",
    "start='A'\n",
    "print(f\"DFS (iterative) traversal starting from {start}:\")\n",
    "dfs_iterative(graph, start)"
   ]
  },
  {
   "cell_type": "markdown",
   "id": "e2c6da78",
   "metadata": {},
   "source": [
    "<hr style=\"height:3px;background-color:lightgreen\">\n",
    "\n",
    "### Some applications of DFS\n",
    "- Find a path from `start` to `target`\n",
    "- Find all paths from `start` to `target`"
   ]
  },
  {
   "cell_type": "code",
   "execution_count": 7,
   "id": "799413c3",
   "metadata": {},
   "outputs": [
    {
     "name": "stdout",
     "output_type": "stream",
     "text": [
      "Find the path from A to E\n",
      "The path is: ['A', 'C', 'E']\n"
     ]
    }
   ],
   "source": [
    "# Find a path from start node to target node in a graph\n",
    "def find_path_dfs(graph, start, target):\n",
    "    # Stack stores (current_node, path_to_current)\n",
    "    stack = [(start, [start])]\n",
    "    visited = set() # Empty set\n",
    "    \n",
    "    while stack:\n",
    "        current_node, path = stack.pop()\n",
    "        if current_node == target:\n",
    "            return path\n",
    "        \n",
    "        if current_node not in visited:\n",
    "            visited.add(current_node)\n",
    "            for neighbor in graph[current_node]:\n",
    "                if neighbor not in visited:\n",
    "                    stack.append((neighbor, path + [neighbor]))\n",
    "    \n",
    "    return None  # No path exists\n",
    "\n",
    "#Example\n",
    "# Find a path from start to target\n",
    "start,target='A','E'\n",
    "path=find_path_dfs(graph,start,target)\n",
    "print(f'Find the path from {start} to {end}')\n",
    "print(f'The path is: {path}')"
   ]
  },
  {
   "cell_type": "code",
   "execution_count": 8,
   "id": "6567a24d",
   "metadata": {},
   "outputs": [],
   "source": [
    "# Find all paths from start to target\n",
    "def find_all_paths(graph, start, target):\n",
    "    \"\"\"\n",
    "    Find all simple paths from start to target using iterative DFS with stack.\n",
    "    \n",
    "    Args:\n",
    "        graph: dict or defaultdict, adjacency list representation\n",
    "        start: starting node\n",
    "        target: destination node\n",
    "    \n",
    "    Returns:\n",
    "        List of all paths (each path is a list of nodes)\n",
    "    \"\"\"\n",
    "    # Stack stores (current_node, path_to_current)\n",
    "    stack = [(start, [start])]\n",
    "    all_paths = []\n",
    "\n",
    "    while stack:\n",
    "        current_node, path = stack.pop()\n",
    "\n",
    "        # If we reached the target, save the path\n",
    "        if current_node == target:\n",
    "            all_paths.append(path)\n",
    "        else:\n",
    "            # Explore neighbors\n",
    "            for neighbor in graph[current_node]:\n",
    "                if neighbor not in path:  # Avoid cycles (simple path only)\n",
    "                    stack.append((neighbor, path + [neighbor]))\n",
    "    \n",
    "    return all_paths"
   ]
  },
  {
   "cell_type": "code",
   "execution_count": 9,
   "id": "82b2de12",
   "metadata": {},
   "outputs": [
    {
     "name": "stdout",
     "output_type": "stream",
     "text": [
      "Find all paths from A to E\n",
      "The path_1 is: ['A', 'C', 'E']\n",
      "The path_2 is: ['A', 'B', 'D', 'E']\n"
     ]
    }
   ],
   "source": [
    "# Example\n",
    "# Find all paths from start to target\n",
    "start,target='A','E'\n",
    "paths=find_all_paths(graph,start, target)\n",
    "print(f'Find all paths from {start} to {target}')\n",
    "for i,path in enumerate(paths):\n",
    "    print(f'The path_{i+1} is: {path}')"
   ]
  },
  {
   "cell_type": "markdown",
   "id": "46e48ac7",
   "metadata": {},
   "source": [
    "<hr style=\"height:3px; background-color:lightblue\">\n",
    "\n",
    "We display the graph used in the examples above by **NetworkX**."
   ]
  },
  {
   "cell_type": "code",
   "execution_count": 10,
   "id": "35adbaac",
   "metadata": {},
   "outputs": [],
   "source": [
    "# Extra, a function to convert your graph to Networkx style,\n",
    "# introduced in an earlier post\n",
    "def convert_to_networkx(your_graph, directed=False):\n",
    "    \"\"\"\n",
    "    Convert your custom graph to NetworkX format.\n",
    "    your_graph: dict in format {node: [neighbors]}\n",
    "    \"\"\"\n",
    "    if directed:\n",
    "        nx_graph = nx.DiGraph()\n",
    "    else:\n",
    "        nx_graph = nx.Graph()\n",
    "    \n",
    "    for u, neighbors in your_graph.items():\n",
    "        for v in neighbors:\n",
    "            if isinstance(v,tuple):\n",
    "                nx_graph.add_edge(u, v[0],weight=v[1])\n",
    "            else:\n",
    "                nx_graph.add_edge(u, v)\n",
    "    \n",
    "    return nx_graph"
   ]
  },
  {
   "cell_type": "code",
   "execution_count": 11,
   "id": "a6a235fa",
   "metadata": {},
   "outputs": [
    {
     "name": "stdout",
     "output_type": "stream",
     "text": [
      "The original graph\n"
     ]
    },
    {
     "data": {
      "image/png": "[encoded data removed]",
      "text/plain": [
       "<Figure size 640x480 with 1 Axes>"
      ]
     },
     "metadata": {},
     "output_type": "display_data"
    }
   ],
   "source": [
    "# convert graph into NetworkX style and display it\n",
    "G_nx=convert_to_networkx(graph)\n",
    "print('The original graph')\n",
    "nx.draw(G_nx,with_labels=True,node_color='lightgreen')"
   ]
  },
  {
   "cell_type": "code",
   "execution_count": null,
   "id": "5119175f",
   "metadata": {},
   "outputs": [],
   "source": []
  }
 ],
 "metadata": {
  "kernelspec": {
   "display_name": "Python 3 (ipykernel)",
   "language": "python",
   "name": "python3"
  },
  "language_info": {
   "codemirror_mode": {
    "name": "ipython",
    "version": 3
   },
   "file_extension": ".py",
   "mimetype": "text/x-python",
   "name": "python",
   "nbconvert_exporter": "python",
   "pygments_lexer": "ipython3",
   "version": "3.11.1"
  }
 },
 "nbformat": 4,
 "nbformat_minor": 5
}
