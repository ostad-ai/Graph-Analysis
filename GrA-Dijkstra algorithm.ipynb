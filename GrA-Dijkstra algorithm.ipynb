{
 "cells": [
  {
   "cell_type": "markdown",
   "id": "10b8c967",
   "metadata": {},
   "source": [
    "# Graph Analysis\n",
    "### Dijkstra's algorithm\n",
    "**Dijkstra algorithm** (**BFS**) is a **greedy** algorithm that finds the shortest path between nodes in a graph with non-negative edge weights.\n",
    "- Dijkstra's algorithm does not work if there are negative weights in the graph.\n",
    "\n",
    "We may express Dijkstra's algorithm for a given **graph** and **source** as:\n",
    "\n",
    "1. **Initialize:**\n",
    "- Create a distance array dist[]. Set distance to **source** = 0, all others = ∞.\n",
    "- Create a priority queue (min-heap) and insert **(0, source)**.\n",
    "- Keep a prev[] array to reconstruct paths (optional).\n",
    "\n",
    "2. **While** the priority queue is not empty:\n",
    "- Extract the node u with the smallest current distance.\n",
    "- Skip if this distance is outdated (greater than known distance dist[u]).\n",
    "- For each neighbor v of u:\n",
    "  - Compute alternative distance alt = dist[u] + weight(u, v)\n",
    "  - If alt < dist[v], update:\n",
    "  -  dist[v] = alt\n",
    "  -  prev[v] = u\n",
    "  -  Push (alt, v) into the priority queue.\n",
    "\n",
    "3. **Result:**\n",
    "- dist[] contains shortest distances from **source**.\n",
    "- Use prev[] to reconstruct shortest paths.\n",
    "\n",
    "<hr>\n",
    "\n",
    "Some key points about Dijkstra's algorithm for a graph $G=(V,E)$:\n",
    "- **Time Complexity:** Efficient with O((|V|+|E|) log |V|) using proper data structures\n",
    "- **Space complexity:** Linear in graph size O(|V| + |E|)\n",
    "- **Optimality:** Guarantees shortest paths with non-negative weights\n",
    "- **Completeness:** Always finds a solution if one exists in finite graphs\n",
    "\n",
    "**Reminder:** **Completeness** in search algorithms refers to whether the algorithm is guaranteed to find a solution if one exists.\n",
    "\n",
    "<hr>\n",
    "\n",
    "In the following, we implement the Dijkstra's algorithm wiht a min-heap as a priority queue. Then, we use if for a simple graph and find all shortest paths from a start node. We also use **NetworkX** to display the simple graph used in the example. As a bonus, we use Dijktra's algorithm to find the path with strongest friendship between two users in a social network. \n",
    "\n",
    "https://github.com/ostad-ai/Graph-Analysis\n",
    "<br>Explanation in English :https://www.pinterest.com/HamedShahHosseini/graph-analysis/"
   ]
  },
  {
   "cell_type": "code",
   "execution_count": 1,
   "id": "28d70d5e",
   "metadata": {},
   "outputs": [],
   "source": [
    "# import required modules\n",
    "import heapq\n",
    "from collections import defaultdict\n",
    "\n",
    "# Import this to display graphs\n",
    "import networkx as nx"
   ]
  },
  {
   "cell_type": "code",
   "execution_count": 2,
   "id": "7ed3e888",
   "metadata": {},
   "outputs": [],
   "source": [
    "# Define Dijkstra returning shortest distances from start to all nodes\n",
    "# and also sending the previous nodes\n",
    "def dijkstra_with_path(graph, start, end=None):\n",
    "    distances = defaultdict(lambda: float('inf'))\n",
    "    distances[start] = 0\n",
    "    previous = {}  # To reconstruct the path\n",
    "    pq = [(0, start)]\n",
    "    \n",
    "    while pq:\n",
    "        current_dist, u = heapq.heappop(pq)\n",
    "        \n",
    "        # Skip outdated entries\n",
    "        if current_dist > distances[u]:\n",
    "            continue\n",
    "        \n",
    "        # Optional: stop early when reaching the target\n",
    "        if u == end:\n",
    "            break\n",
    "        \n",
    "        for v, weight in graph.get(u, []):\n",
    "            new_dist = current_dist + weight\n",
    "            if new_dist < distances[v]:\n",
    "                distances[v] = new_dist\n",
    "                previous[v] = u\n",
    "                heapq.heappush(pq, (new_dist, v))\n",
    "    \n",
    "    return dict(distances), previous"
   ]
  },
  {
   "cell_type": "code",
   "execution_count": 3,
   "id": "cec74cdb",
   "metadata": {},
   "outputs": [],
   "source": [
    "def get_path(previous, start, end):\n",
    "    \"\"\"Reconstruct path from start to end.\"\"\"\n",
    "\n",
    "    # Handle case where end wasn't reached\n",
    "    if end not in previous and end != start:\n",
    "        return None\n",
    "    path = []\n",
    "    current = end\n",
    "    while current is not None:\n",
    "        path.append(current)\n",
    "        if current == start:\n",
    "            break\n",
    "        # Returns None if not found\n",
    "        current = previous.get(current)\n",
    "    else:\n",
    "        return None  # No valid path\n",
    "    # Reverse to get start → end\n",
    "    return path[::-1]"
   ]
  },
  {
   "cell_type": "code",
   "execution_count": 4,
   "id": "f17ad0c5",
   "metadata": {},
   "outputs": [
    {
     "name": "stdout",
     "output_type": "stream",
     "text": [
      "Distances from A: {'A': 0, 'B': 3, 'C': 1, 'D': 2}\n",
      "--------------------------------------------------\n",
      "Shortest path from A to A:  A\n",
      "Shortest path from A to B:  A → C → B\n",
      "Shortest path from A to C:  A → C\n",
      "Shortest path from A to D:  A → C → D\n"
     ]
    }
   ],
   "source": [
    "# Example usage with path\n",
    "graph = {\n",
    "    'A': [('B', 6), ('C', 1)],\n",
    "    'B': [('D', 5)],\n",
    "    'C': [('B', 2), ('D', 1)],\n",
    "    'D': []\n",
    "}\n",
    "start='A'\n",
    "distances, prev = dijkstra_with_path(graph, start)\n",
    "print(f'Distances from {start}: {distances}')         \n",
    "print('-'*50)\n",
    "for end in graph:\n",
    "    path = get_path(prev, start, end)\n",
    "    if path:\n",
    "        print(f'Shortest path from {start} to {end}: ', ' → '.join(path))"
   ]
  },
  {
   "cell_type": "markdown",
   "id": "46e48ac7",
   "metadata": {},
   "source": [
    "<hr style=\"height:3px; background-color:lightblue\">\n",
    "\n",
    "We display the graph used in the example above by **NetworkX**."
   ]
  },
  {
   "cell_type": "code",
   "execution_count": 5,
   "id": "35adbaac",
   "metadata": {},
   "outputs": [],
   "source": [
    "# Extra, a function to convert your graph to Networkx style,\n",
    "# introduced in an earlier post\n",
    "def convert_to_networkx(your_graph, directed=False):\n",
    "    \"\"\"\n",
    "    Convert your custom graph to NetworkX format.\n",
    "    your_graph: dict in format {node: [neighbors]}\n",
    "    \"\"\"\n",
    "    if directed:\n",
    "        nx_graph = nx.DiGraph()\n",
    "    else:\n",
    "        nx_graph = nx.Graph()\n",
    "    \n",
    "    for u, neighbors in your_graph.items():\n",
    "        for v in neighbors:\n",
    "            if isinstance(v,tuple):\n",
    "                nx_graph.add_edge(u, v[0],weight=v[1])\n",
    "            else:\n",
    "                nx_graph.add_edge(u, v)\n",
    "    \n",
    "    return nx_graph"
   ]
  },
  {
   "cell_type": "code",
   "execution_count": 6,
   "id": "a6a235fa",
   "metadata": {},
   "outputs": [
    {
     "data": {
      "image/png": "[encoded data removed]",
      "text/plain": [
       "<Figure size 640x480 with 1 Axes>"
      ]
     },
     "metadata": {},
     "output_type": "display_data"
    }
   ],
   "source": [
    "# convert graph into NetworkX style and display it\n",
    "G_nx=convert_to_networkx(graph)\n",
    "pos=nx.spring_layout(G_nx)\n",
    "labels=nx.get_edge_attributes(G_nx,'weight')\n",
    "nx.draw(G_nx,pos,with_labels=True,node_color='lightblue',node_size=1500)\n",
    "_=nx.draw_networkx_edge_labels(G_nx,pos,edge_labels=labels,font_size=16)"
   ]
  },
  {
   "cell_type": "markdown",
   "id": "52feb1d0",
   "metadata": {},
   "source": [
    "<hr style=\"height:3px;background-color:lightgreen\">\n",
    "\n",
    "### Bonus: Social network with connection strength\n",
    "Find the strongest friendship path between two persons in social networks"
   ]
  },
  {
   "cell_type": "code",
   "execution_count": 7,
   "id": "0f0e1545",
   "metadata": {},
   "outputs": [
    {
     "name": "stdout",
     "output_type": "stream",
     "text": [
      "The strongest path from Frank to Bob is:\n",
      "['Frank', 'Diana', 'Bob']\n",
      "The average strength is: 0.65\n"
     ]
    }
   ],
   "source": [
    "#Find path with strongest connections (inverse of weight)\n",
    "# Convert friendship strength to distance (weaker = longer distance)\n",
    "social_graph = {\n",
    "    'Alice': [('Bob', 1/0.9), ('Charlie', 1/0.7)],  # Strong friendship = short distance\n",
    "    'Bob': [('Alice', 1/0.9), ('Diana', 1/0.8)],\n",
    "    'Charlie': [('Alice', 1/0.7), ('Eve', 1/0.6)],\n",
    "    'Diana': [('Bob', 1/0.8), ('Frank', 1/0.5)],\n",
    "    'Eve': [('Charlie', 1/0.6), ('Frank', 1/0.9)],\n",
    "    'Frank': [('Diana', 1/0.5), ('Eve', 1/0.9)]\n",
    "}\n",
    "\n",
    "person1,person2='Frank','Bob'\n",
    "distance_sg, previous_sg = dijkstra_with_path(social_graph, person1, person2)\n",
    "path_sg=get_path(previous_sg,person1,person2)\n",
    "\n",
    "# Sum the actual friendship strengths along the path\n",
    "total_strength = 0\n",
    "edge_count = len(path_sg) - 1\n",
    "\n",
    "for i in range(len(path_sg) - 1):\n",
    "    person_a = path_sg[i]\n",
    "    person_b = path_sg[i + 1]\n",
    "    # Convert distance back to original strength\n",
    "    # Find the edge strength between person_a and person_b\n",
    "    edge_strength = None\n",
    "    for neighbor, edge_distance in social_graph[person_a]:\n",
    "        if neighbor == person_b:\n",
    "            # Convert distance back to original strength\n",
    "            edge_strength = 1 / edge_distance\n",
    "            break\n",
    "\n",
    "    if edge_strength is not None:\n",
    "        total_strength += edge_strength\n",
    "\n",
    "avg_strength = total_strength / edge_count\n",
    "print(f'The strongest path from {person1} to {person2} is:\\n{path_sg}')\n",
    "print(f'The average strength is: {avg_strength}')"
   ]
  },
  {
   "cell_type": "code",
   "execution_count": null,
   "id": "7003ca7c",
   "metadata": {},
   "outputs": [],
   "source": []
  }
 ],
 "metadata": {
  "kernelspec": {
   "display_name": "Python 3 (ipykernel)",
   "language": "python",
   "name": "python3"
  },
  "language_info": {
   "codemirror_mode": {
    "name": "ipython",
    "version": 3
   },
   "file_extension": ".py",
   "mimetype": "text/x-python",
   "name": "python",
   "nbconvert_exporter": "python",
   "pygments_lexer": "ipython3",
   "version": "3.11.1"
  }
 },
 "nbformat": 4,
 "nbformat_minor": 5
}
