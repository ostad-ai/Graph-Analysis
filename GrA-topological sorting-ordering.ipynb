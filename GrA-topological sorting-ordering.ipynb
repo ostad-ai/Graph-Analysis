{
 "cells": [
  {
   "cell_type": "markdown",
   "id": "8a80375a",
   "metadata": {},
   "source": [
    "# Graph Analysis\n",
    "### Topological sorting (ordering)\n",
    "\n",
    "**Topological sorting** (**ordering**) is a **linear ordering** of the nodes of a directed graph such that for every directed edge (u → v), node u comes before ndeo v in the ordering. \n",
    "- Topological sorting is only possible for **Directed Acyclic Graphs** (DAGs).\n",
    "\n",
    "**Hint 1:** A **directed acyclic graph** (DAG) is a **directed** graph with **no cycles**.\n",
    "<br>**Hint 2:** A **DAG** is different from a **tree**. In DAGs, a node can have multiple parents. Moreover, a DAG can be disconnected.\n",
    "<br>**Hint 3:** Every finite DAG has at least one **source** (node with no incoming edges). Also, every finite DAG has at least one **sink** (node with no outgoing edges). \n",
    "<hr>\n",
    "\n",
    "**Hint 4:** A **linear order** (also called total order) is a **partial order** in which any two elements are comparable. \n",
    "<br>**Reminder:** In formal definition, a **linear order** ≤ on a set S is a **binary relation** that satisfies:\n",
    "- **Reflexivity:** a ≤ a for all a ∈ S\n",
    "- **Antisymmetry:** If a ≤ b and b ≤ a, then a = b\n",
    "- **Transitivity:** If a ≤ b and b ≤ c, then a ≤ c\n",
    "- **Totality (strongly connected):** For all a, b ∈ S, either a ≤ b or b ≤ a.\n",
    "\n",
    "**Hint 5:** The first three properties mentioned above state the definition of **partial order**.\n",
    "<hr>\n",
    "\n",
    "In the following, we implement the topoligcal sorting with two methods: **depth-first search** (**DFS**) and **Kahn's algorithm**.\n",
    "- If the DAG is defined by edges $u\\rightarrow v$, where $u$ is dependent on $v$, then, we have to **reverse** the final sorting.\n",
    "\n",
    "Finally, as a bonus, we bring a DFS (depth-first search) code to check if a directed graph is DAG or not.\n",
    "<hr>\n",
    "\n",
    "https://github.com/ostad-ai/Graph-Analysis\n",
    "<br>Explanation in English :https://www.pinterest.com/HamedShahHosseini/graph-analysis/"
   ]
  },
  {
   "cell_type": "code",
   "execution_count": 1,
   "id": "fc6f2fe9",
   "metadata": {},
   "outputs": [],
   "source": [
    "# Import required module\n",
    "from collections import deque"
   ]
  },
  {
   "cell_type": "code",
   "execution_count": 2,
   "id": "f73a991b",
   "metadata": {},
   "outputs": [],
   "source": [
    "# Compute topological sorting with DFS\n",
    "def topological_sort(graph):\n",
    "    \"\"\"\n",
    "    Perform topological sort on a directed graph using DFS\n",
    "    Returns a list of vertices in topological order\n",
    "    \"\"\"\n",
    "    visited = set()\n",
    "    stack = []\n",
    "    \n",
    "    def dfs(node):\n",
    "        visited.add(node)\n",
    "        for neighbor in graph.get(node, []):\n",
    "            if neighbor not in visited:\n",
    "                dfs(neighbor)\n",
    "        # Add node to stack after processing all neighbors\n",
    "        stack.append(node)  \n",
    "    \n",
    "    # Visit all nodes\n",
    "    for node in graph:\n",
    "        if node not in visited:\n",
    "            dfs(node)\n",
    "    \n",
    "    return stack[::-1]  # Reverse to get correct order"
   ]
  },
  {
   "cell_type": "code",
   "execution_count": 3,
   "id": "cab8aee5",
   "metadata": {},
   "outputs": [
    {
     "name": "stdout",
     "output_type": "stream",
     "text": [
      "Valid course order by DFS:\n",
      " ['Discrete Math', 'Data Structures', 'Algorithms', 'Calculus', 'Statistics', 'Machine Learning']\n"
     ]
    }
   ],
   "source": [
    "# Example\n",
    "# Graph where edges represent prerequisites\n",
    "course_graph = {\n",
    "    'Calculus': ['Statistics'],\n",
    "    'Statistics': ['Machine Learning'],\n",
    "    'Discrete Math': ['Data Structures'],\n",
    "    'Data Structures': ['Algorithms'],\n",
    "    'Algorithms': [],\n",
    "    'Machine Learning': []\n",
    "}\n",
    "\n",
    "# Get topological order\n",
    "order = topological_sort(course_graph)\n",
    "print(\"Valid course order by DFS:\\n\", order)"
   ]
  },
  {
   "cell_type": "code",
   "execution_count": 4,
   "id": "f9a80dc5",
   "metadata": {},
   "outputs": [],
   "source": [
    "# Compute topological sorting by Kahn's algorithm\n",
    "# It can report cycles too if they exist\n",
    "def topological_sort_kahn(graph):\n",
    "    \"\"\"\n",
    "    Topological sort using Kahn's algorithm (BFS-based)\n",
    "    \"\"\"\n",
    "    # Calculate in-degrees\n",
    "    in_degree = {node: 0 for node in graph}\n",
    "    for node in graph:\n",
    "        for neighbor in graph[node]:\n",
    "            in_degree[neighbor] += 1\n",
    "    \n",
    "    # Queue for nodes with no incoming edges\n",
    "    queue = deque([node for node in graph if in_degree[node] == 0])\n",
    "    result = []\n",
    "    \n",
    "    # While queue is not empty\n",
    "    while queue:\n",
    "        node = queue.popleft()\n",
    "        result.append(node)\n",
    "        \n",
    "        for neighbor in graph[node]:\n",
    "            in_degree[neighbor] -= 1\n",
    "            if in_degree[neighbor] == 0:\n",
    "                queue.append(neighbor)\n",
    "    \n",
    "    # Check for cycles\n",
    "    if len(result) != len(graph):\n",
    "        raise ValueError(\"Graph contains a cycle!\")\n",
    "    \n",
    "    return result"
   ]
  },
  {
   "cell_type": "code",
   "execution_count": 5,
   "id": "019b0fca",
   "metadata": {},
   "outputs": [
    {
     "name": "stdout",
     "output_type": "stream",
     "text": [
      "Valid course order by Kahn's algorithm':\n",
      " ['Calculus', 'Discrete Math', 'Statistics', 'Data Structures', 'Machine Learning', 'Algorithms']\n"
     ]
    }
   ],
   "source": [
    "# Example\n",
    "# Get topological order by Kahn's algorithm\n",
    "order_kahn = topological_sort_kahn(course_graph)\n",
    "print(\"Valid course order by Kahn\\'s algorithm':\\n\", order_kahn)"
   ]
  },
  {
   "cell_type": "code",
   "execution_count": 6,
   "id": "cf330177",
   "metadata": {},
   "outputs": [
    {
     "name": "stdout",
     "output_type": "stream",
     "text": [
      "Valid course order by DFS:\n",
      " ['Buy Ingredients', 'Preheat Oven to 350°F', 'Grease Baking Pan', 'Mix Dry Ingredients', 'Mix Wet Ingredients', 'Combine Mixtures', 'Pour Batter into Pan', 'Bake for 30-35 minutes', 'Cool in Pan for 10 minutes', 'Cool on Rack completely', 'Make Frosting', 'Frost Cake', 'Serve']\n",
      "--------------------------------------------------\n",
      "Valid course order vy Kahn's':\n",
      " ['Buy Ingredients', 'Mix Wet Ingredients', 'Mix Dry Ingredients', 'Grease Baking Pan', 'Combine Mixtures', 'Preheat Oven to 350°F', 'Pour Batter into Pan', 'Bake for 30-35 minutes', 'Cool in Pan for 10 minutes', 'Make Frosting', 'Cool on Rack completely', 'Frost Cake', 'Serve']\n"
     ]
    }
   ],
   "source": [
    "# This DAG has been defined in reverse order\n",
    "# So, we must reverse the final order to get the correct one\n",
    "chocolate_cake_dag = {\n",
    "    'Buy Ingredients': [],\n",
    "    'Preheat Oven to 350°F': [],\n",
    "    'Grease Baking Pan': ['Buy Ingredients'],\n",
    "    'Mix Dry Ingredients': ['Buy Ingredients'],\n",
    "    'Mix Wet Ingredients': ['Buy Ingredients'],\n",
    "    'Combine Mixtures': ['Mix Dry Ingredients', 'Mix Wet Ingredients'],\n",
    "    'Pour Batter into Pan': ['Combine Mixtures', 'Grease Baking Pan'],\n",
    "    'Bake for 30-35 minutes': ['Pour Batter into Pan', 'Preheat Oven to 350°F'],\n",
    "    'Cool in Pan for 10 minutes': ['Bake for 30-35 minutes'],\n",
    "    'Cool on Rack completely': ['Cool in Pan for 10 minutes'],\n",
    "    'Make Frosting': ['Buy Ingredients'],\n",
    "    'Frost Cake': ['Cool on Rack completely', 'Make Frosting'],\n",
    "    'Serve': ['Frost Cake']\n",
    "}\n",
    "\n",
    "# Get topological order and reverse it because the DAG is reversed\n",
    "order_recipe_dfs = topological_sort(chocolate_cake_dag)[::-1]\n",
    "print(\"Valid course order by DFS:\\n\", order_recipe_dfs)\n",
    "print('-'*50)\n",
    "order_recipe_kahn = topological_sort_kahn(chocolate_cake_dag)[::-1]\n",
    "print(\"Valid course order vy Kahn\\'s':\\n\", order_recipe_kahn)"
   ]
  },
  {
   "cell_type": "markdown",
   "id": "1419f6c0",
   "metadata": {},
   "source": [
    "<hr style=\"height:3px; background-color:lightgreen\">\n",
    "\n",
    "### Is a DAG?\n",
    "The following algorithms checks if a directed graph is a **DAG** or not."
   ]
  },
  {
   "cell_type": "code",
   "execution_count": 7,
   "id": "93fea15a",
   "metadata": {},
   "outputs": [
    {
     "name": "stdout",
     "output_type": "stream",
     "text": [
      "DAG example is acyclic: True\n",
      "Cyclic example is acyclic: False\n"
     ]
    }
   ],
   "source": [
    "# Bonus\n",
    "def is_dag(graph):\n",
    "    \"\"\"\n",
    "    Check if a directed graph is acyclic using DFS\n",
    "    \"\"\"\n",
    "    visited = set()\n",
    "    recursion_stack = set()\n",
    "    \n",
    "    def has_cycle(node):\n",
    "        visited.add(node)\n",
    "        recursion_stack.add(node)\n",
    "        \n",
    "        for neighbor in graph.get(node, []):\n",
    "            if neighbor not in visited:\n",
    "                if has_cycle(neighbor):\n",
    "                    return True\n",
    "            elif neighbor in recursion_stack:\n",
    "                return True  # Cycle detected\n",
    "        \n",
    "        recursion_stack.remove(node)\n",
    "        return False\n",
    "    \n",
    "    for node in graph:\n",
    "        if node not in visited:\n",
    "            if has_cycle(node):\n",
    "                return False\n",
    "    return True\n",
    "\n",
    "# Test examples\n",
    "dag_example = {\n",
    "    'A': ['B', 'D'],\n",
    "    'B': ['C', 'D'],\n",
    "    'C': ['E'],\n",
    "    'D': ['E'],\n",
    "    'E': []\n",
    "}\n",
    "\n",
    "cyclic_example = {\n",
    "    'A': ['B'],\n",
    "    'B': ['C'],\n",
    "    'C': ['A'],  # Cycle: A → B → C → A\n",
    "    'D': ['A','B']\n",
    "}\n",
    "\n",
    "print(\"DAG example is acyclic:\", is_dag(dag_example))      # True\n",
    "print(\"Cyclic example is acyclic:\", is_dag(cyclic_example)) # False"
   ]
  },
  {
   "cell_type": "code",
   "execution_count": null,
   "id": "cb8fc152",
   "metadata": {},
   "outputs": [],
   "source": []
  }
 ],
 "metadata": {
  "kernelspec": {
   "display_name": "Python 3 (ipykernel)",
   "language": "python",
   "name": "python3"
  },
  "language_info": {
   "codemirror_mode": {
    "name": "ipython",
    "version": 3
   },
   "file_extension": ".py",
   "mimetype": "text/x-python",
   "name": "python",
   "nbconvert_exporter": "python",
   "pygments_lexer": "ipython3",
   "version": "3.11.1"
  }
 },
 "nbformat": 4,
 "nbformat_minor": 5
}
