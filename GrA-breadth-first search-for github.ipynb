{
 "cells": [
  {
   "cell_type": "markdown",
   "id": "10b8c967",
   "metadata": {},
   "source": [
    "# Graph Analysis\n",
    "### Breadth-first search\n",
    "**Breadth-first search** (**BFS**) is like **depth-first search**, an **uninformed** search algorthim. But instead of *recursion* or using *stack*, **BFS** uses a **queue** to store and retrieve nodes. \n",
    "- BFS is a **graph traversal** algorithm that explores all nodes at the current depth level before moving on to nodes at the next depth level. \n",
    "\n",
    "In other words, we may say BFS with given **graph** and **start_node**:\n",
    "1. Create an empty queue.\n",
    "2. Create a visited set.\n",
    "3. Enqueue **start_node** and mark as visited.\n",
    "4. While queue is not empty:\n",
    "    - Dequeue current node.\n",
    "    - Process current node.\n",
    "    - Enqueue all unvisited neighbors.\n",
    "    - Mark neighbors as visited.\n",
    "\n",
    "**Hint:** BFS uses a **queu**e (**FIFO**: First-In, First-Out) to manage the order of exploration.\n",
    "\n",
    "<hr>\n",
    "\n",
    "Some key points about BFS:\n",
    "- **Time complexity:** For a graph $G=(V,E)$, we need to explore every node and every edge in the worst case. Thus, the time complexity is $O(|V|+|E|)$.\n",
    "- **Space complexity:** The space complexity for graph $G=(V,E)$ is $O(|V|)$.\n",
    "- **Completeness:** If the graph is finite, completeness is guaranteed for a BFS.\n",
    "- **Optimality:** BFS finds the **optimal** solution for **unweighted** graphs (in terms of the number of edges). \n",
    "  - This is in contrast to the **depth-first search** (DFS) that is not guaranteed to find the optimal solution.\n",
    "\n",
    "**Reminder:** **Completeness** in search algorithms refers to whether the algorithm is guaranteed to find a solution if one exists.\n",
    "\n",
    "<hr>\n",
    "\n",
    "In the following, we implement the standard BFS with queue (which is an iterative algorithm). Then, we use BFS for finding the shortest path between start and end (target) nodes. Next, we compute the degree of speration of two users in **social networks**. Finally, we use **NetworkX** to display the graph used in the degree of separation.\n",
    "<hr>\n",
    "\n",
    "https://github.com/ostad-ai/Graph-Analysis\n",
    "<br>Explanation in English :https://www.pinterest.com/HamedShahHosseini/graph-analysis/"
   ]
  },
  {
   "cell_type": "code",
   "execution_count": 1,
   "id": "28d70d5e",
   "metadata": {},
   "outputs": [],
   "source": [
    "# import required modules\n",
    "from collections import deque\n",
    "# Import this to display graphs\n",
    "import networkx as nx"
   ]
  },
  {
   "cell_type": "code",
   "execution_count": 2,
   "id": "b6f37fca",
   "metadata": {},
   "outputs": [],
   "source": [
    "# Define the BFS, \n",
    "def bfs(graph, start):\n",
    "    '''graph: an adjacency list '''\n",
    "    '''start: is the start node to search from'''\n",
    "    visited = set()\n",
    "    queue = deque([start])\n",
    "    # when enqueue node, mark it as visited\n",
    "    visited.add(start)\n",
    "   \n",
    "    # while queue is not empty\n",
    "    while queue:\n",
    "        current = queue.popleft()\n",
    "        # Process the current node\n",
    "        print(f\"Visiting: {current}\")\n",
    "        \n",
    "        # Add unvisited neighbors to queue\n",
    "        # and mark them as visited\n",
    "        for neighbor in graph[current]:\n",
    "            if neighbor not in visited:\n",
    "                queue.append(neighbor)\n",
    "                visited.add(neighbor)"
   ]
  },
  {
   "cell_type": "code",
   "execution_count": 3,
   "id": "9ee265b7",
   "metadata": {},
   "outputs": [
    {
     "name": "stdout",
     "output_type": "stream",
     "text": [
      "BFS traversal starting from A:\n",
      "Visiting: A\n",
      "Visiting: B\n",
      "Visiting: C\n",
      "Visiting: D\n",
      "Visiting: E\n",
      "Visiting: F\n"
     ]
    }
   ],
   "source": [
    "# Example graph (adjacency list)\n",
    "# The same graph used in DFS\n",
    "\n",
    "#     A\n",
    "#    / \\\n",
    "#   B   C\n",
    "#  /   / \\\n",
    "# D --E --F\n",
    "\n",
    "graph = {\n",
    "    'A': ['B', 'C'],\n",
    "    'B': ['A', 'D'],\n",
    "    'C': ['A', 'E', 'F'],\n",
    "    'D': ['B','E'],\n",
    "    'E': ['C','D'],\n",
    "    'F': ['C']\n",
    "}\n",
    "\n",
    "start='A'\n",
    "print(f\"BFS traversal starting from {start}:\")\n",
    "bfs(graph, start)"
   ]
  },
  {
   "cell_type": "markdown",
   "id": "e2c6da78",
   "metadata": {},
   "source": [
    "<hr style=\"height:3px;background-color:lightgreen\">\n",
    "\n",
    "### Some applications of BFS\n",
    "- Find the shortest path from `start` to `end`\n",
    "- Compute the degree of separation between users in `social networks`"
   ]
  },
  {
   "cell_type": "code",
   "execution_count": 8,
   "id": "8113f5fd",
   "metadata": {},
   "outputs": [
    {
     "name": "stdout",
     "output_type": "stream",
     "text": [
      "Find the shortest path from A to F\n",
      "The path is: ['A', 'C', 'F']\n"
     ]
    }
   ],
   "source": [
    "def shortest_path_bfs(graph, start, end):\n",
    "    if start == end:\n",
    "        return [start]\n",
    "    \n",
    "    visited = set([start])\n",
    "    queue = deque([(start, [start])])  # (node, path)\n",
    "    \n",
    "    while queue:\n",
    "        current, path = queue.popleft()\n",
    "        \n",
    "        for neighbor in graph[current]:\n",
    "            if neighbor == end:\n",
    "                return path + [neighbor]\n",
    "            \n",
    "            if neighbor not in visited:\n",
    "                visited.add(neighbor)\n",
    "                queue.append((neighbor, path + [neighbor]))\n",
    "    \n",
    "    return None  # No path exists\n",
    "\n",
    "#Example\n",
    "# Find a path from start to end\n",
    "start,end='A','F'\n",
    "path=shortest_path_bfs(graph,start,end)\n",
    "print(f'Find the shortest path from {start} to {end}')\n",
    "print(f'The path is: {path}')"
   ]
  },
  {
   "cell_type": "code",
   "execution_count": 5,
   "id": "7f8407fd",
   "metadata": {},
   "outputs": [
    {
     "name": "stdout",
     "output_type": "stream",
     "text": [
      "The degree of speraration between Alice and Grace is: 3\n",
      "The degree of speraration between Alice and Frank is: 2\n"
     ]
    }
   ],
   "source": [
    "def degrees_of_separation(network, person1, person2):\n",
    "    \"\"\"Degrees of separation in social network\"\"\"\n",
    "    \"\"\"between person1 and person2\"\"\"\n",
    "    if person1 == person2:\n",
    "        return 0\n",
    "    \n",
    "    visited = set([person1])\n",
    "    queue = deque([(person1, 0)])  # (person, distance)\n",
    "    \n",
    "    while queue:\n",
    "        current_person, distance = queue.popleft()\n",
    "        \n",
    "        for friend in network.get(current_person, []):\n",
    "            if friend == person2:\n",
    "                return distance + 1\n",
    "            \n",
    "            if friend not in visited:\n",
    "                visited.add(friend)\n",
    "                queue.append((friend, distance + 1))\n",
    "    \n",
    "    return -1  # Not connected\n",
    "\n",
    "# A small, intuitive social network\n",
    "simple_social_network = {\n",
    "    'Alice': ['Bob', 'Charlie'],\n",
    "    'Bob': ['Alice', 'Diana', 'Eve'],\n",
    "    'Charlie': ['Alice', 'Frank'],\n",
    "    'Diana': ['Bob', 'Grace'],\n",
    "    'Eve': ['Bob', 'Frank'],\n",
    "    'Frank': ['Charlie', 'Eve', 'Grace'],\n",
    "    'Grace': ['Diana', 'Frank'],\n",
    "    'Henry': []  # Isolated person\n",
    "}\n",
    "\n",
    "#Example usage\n",
    "p1,p2,p3='Alice','Grace','Frank'\n",
    "deg_p1_p2=degrees_of_separation(simple_social_network,p1,p2)\n",
    "print(f'The degree of speraration between {p1} and {p2} is: {deg_p1_p2}')\n",
    "\n",
    "deg_p1_p3=degrees_of_separation(simple_social_network,p1,p3)\n",
    "print(f'The degree of speraration between {p1} and {p3} is: {deg_p1_p3}')"
   ]
  },
  {
   "cell_type": "markdown",
   "id": "46e48ac7",
   "metadata": {},
   "source": [
    "<hr style=\"height:3px; background-color:lightblue\">\n",
    "\n",
    "We display the graph used in the example above by **NetworkX**."
   ]
  },
  {
   "cell_type": "code",
   "execution_count": 6,
   "id": "35adbaac",
   "metadata": {},
   "outputs": [],
   "source": [
    "# Extra, a function to convert your graph to Networkx style,\n",
    "# introduced in an earlier post\n",
    "def convert_to_networkx(your_graph, directed=False):\n",
    "    \"\"\"\n",
    "    Convert your custom graph to NetworkX format.\n",
    "    your_graph: dict in format {node: [neighbors]}\n",
    "    \"\"\"\n",
    "    if directed:\n",
    "        nx_graph = nx.DiGraph()\n",
    "    else:\n",
    "        nx_graph = nx.Graph()\n",
    "    \n",
    "    for u, neighbors in your_graph.items():\n",
    "        for v in neighbors:\n",
    "            if isinstance(v,tuple):\n",
    "                nx_graph.add_edge(u, v[0],weight=v[1])\n",
    "            else:\n",
    "                nx_graph.add_edge(u, v)\n",
    "    \n",
    "    return nx_graph"
   ]
  },
  {
   "cell_type": "code",
   "execution_count": 7,
   "id": "a6a235fa",
   "metadata": {},
   "outputs": [
    {
     "name": "stdout",
     "output_type": "stream",
     "text": [
      "The simple social network\n"
     ]
    },
    {
     "data": {
      "image/png": "[encoded data removed]",
      "text/plain": [
       "<Figure size 640x480 with 1 Axes>"
      ]
     },
     "metadata": {},
     "output_type": "display_data"
    }
   ],
   "source": [
    "# convert graph into NetworkX style and display it\n",
    "G_nx=convert_to_networkx(simple_social_network)\n",
    "print('The simple social network')\n",
    "nx.draw(G_nx,with_labels=True,node_color='lightgreen',node_size=1500)"
   ]
  },
  {
   "cell_type": "code",
   "execution_count": null,
   "id": "0f0e1545",
   "metadata": {},
   "outputs": [],
   "source": []
  }
 ],
 "metadata": {
  "kernelspec": {
   "display_name": "Python 3 (ipykernel)",
   "language": "python",
   "name": "python3"
  },
  "language_info": {
   "codemirror_mode": {
    "name": "ipython",
    "version": 3
   },
   "file_extension": ".py",
   "mimetype": "text/x-python",
   "name": "python",
   "nbconvert_exporter": "python",
   "pygments_lexer": "ipython3",
   "version": "3.11.1"
  }
 },
 "nbformat": 4,
 "nbformat_minor": 5
}
