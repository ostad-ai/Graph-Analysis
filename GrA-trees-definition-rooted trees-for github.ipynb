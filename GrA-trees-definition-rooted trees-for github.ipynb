{
 "cells": [
  {
   "cell_type": "markdown",
   "id": "10b8c967",
   "metadata": {},
   "source": [
    "# Graph Analysis\n",
    "### Trees\n",
    "A **tree** is an **undirected** graph, which is **connected** and **acyclic**.\n",
    "- **Connected:** There is a path between any two distinct nodes.\n",
    "- **Acyclic:** It contains no cycles (or loops).\n",
    "\n",
    "<hr>\n",
    "\n",
    "**Reminder:** A **cycle** is a *path* that starts and ends at the same node. \n",
    "- So, a cycle has no repeated edges and no repeated nodes (except the first and last nodes).\n",
    "<hr>\n",
    "\n",
    "We have different kinds of trees including:\n",
    "- **Unrooted tree:** There is no designated root. thus it has symmetric structure.\n",
    "- **Rooted tree:** There is a ndoe as root. And it defines parent-chidl relationships. It thus has hierarchical structure.\n",
    "  - It is used in file systems, organizational charts, family trees, decision trees, and etc.\n",
    "- **Spanning tree:** A subgraph that includes all nodes of the graph, but it is a tree.\n",
    "- **Forest:** A disconencted graph where each component is a tree (it is a collection of trees).\n",
    "  - Thus, it is acyclic but disconnected.\n",
    "\n",
    "<hr>\n",
    "\n",
    "In the following, we bring a Python code to define a node class for building trees, and then we introduce some functions to get useful information from trees. Finally, as a bonus, we state a simple decision tree for medical diagnosis.\n",
    "<hr>\n",
    "\n",
    "https://github.com/ostad-ai/Graph-Analysis\n",
    "<br>Explanation in English :https://www.pinterest.com/HamedShahHosseini/graph-analysis/"
   ]
  },
  {
   "cell_type": "code",
   "execution_count": 1,
   "id": "9e47b086",
   "metadata": {},
   "outputs": [],
   "source": [
    "# Define a class for a node in a rooted tree\n",
    "# Each node here knows its parent\n",
    "class TreeNode:\n",
    "    def __init__(self, value, parent=None):\n",
    "        self.value = value\n",
    "        self.parent = parent  # Know your parent\n",
    "        self.children = []    # Know your children\n",
    "    \n",
    "    # Add a child node to self and return it\n",
    "    def add_child(self, value):\n",
    "        child = TreeNode(value, parent=self)\n",
    "        self.children.append(child)\n",
    "        return child"
   ]
  },
  {
   "cell_type": "code",
   "execution_count": 2,
   "id": "b4c84b7b",
   "metadata": {},
   "outputs": [
    {
     "name": "stdout",
     "output_type": "stream",
     "text": [
      "Parent of B is: A\n",
      "Parent of C is: A\n",
      "Parent of D is: C\n",
      "Children of A (root): ['B', 'C']\n"
     ]
    }
   ],
   "source": [
    "# Usage example\n",
    "root = TreeNode('A')\n",
    "b = root.add_child('B')  # B's parent is automatically set to A\n",
    "c = root.add_child('C')  # C's parent is A\n",
    "d=c.add_child('D') # D's parent is c\n",
    "print(f'Parent of {b.value} is: {b.parent.value}')  \n",
    "print(f'Parent of {c.value} is: {c.parent.value}')  \n",
    "print(f'Parent of {d.value} is: {d.parent.value}')  \n",
    "# [B, C] - A knows its children\n",
    "print(f'Children of A (root): {[child.value for child in root.children]}')  "
   ]
  },
  {
   "cell_type": "markdown",
   "id": "8187aadb",
   "metadata": {},
   "source": [
    "<hr>\n",
    "\n",
    "### Operations on rooted trees\n",
    "Let's do some operation on a given tree"
   ]
  },
  {
   "cell_type": "code",
   "execution_count": 3,
   "id": "772f8731",
   "metadata": {},
   "outputs": [
    {
     "name": "stdout",
     "output_type": "stream",
     "text": [
      "Search:  Found C\n",
      "Search: Not found E\n"
     ]
    }
   ],
   "source": [
    "# Find the node by its value \n",
    "def find_node(root, target_value):\n",
    "    if root.value == target_value:\n",
    "        return root\n",
    "    for child in root.children:\n",
    "        result = find_node(child, target_value)\n",
    "        if result:\n",
    "            return result\n",
    "    return None\n",
    "\n",
    "# Example of finding nodes\n",
    "for value in ['C','E']:\n",
    "    node = find_node(root, value)\n",
    "    print('Search:', f' Found {node.value}'\\\n",
    "          if node else f\"Not found {value}\")"
   ]
  },
  {
   "cell_type": "code",
   "execution_count": 4,
   "id": "5d800235",
   "metadata": {},
   "outputs": [
    {
     "name": "stdout",
     "output_type": "stream",
     "text": [
      "Leaves: ['B', 'D']\n"
     ]
    }
   ],
   "source": [
    "# Get all leaves of a tree\n",
    "# (using inner function in Python)\n",
    "def get_leaves(root):\n",
    "    leaves = []\n",
    "    \n",
    "    def traverse(node):\n",
    "        if not node.children:\n",
    "            leaves.append(node.value)\n",
    "        for child in node.children:\n",
    "            traverse(child)\n",
    "    \n",
    "    traverse(root)\n",
    "    return leaves\n",
    "\n",
    "print(\"Leaves:\", get_leaves(root))"
   ]
  },
  {
   "cell_type": "markdown",
   "id": "7b988ef3",
   "metadata": {},
   "source": [
    "<hr style=\"height:3px; background-color:orange\">\n",
    "\n",
    "### A bonus: Medical diagnosis for flu\n",
    "Defing a simple decision tree to guide decsions based on symptons\n",
    "<br> Root\n",
    "<br>├── Fever? → Yes\n",
    "<br>│   ├── Cough? → Yes → Flu\n",
    "<br>│   └── Cough? → No → Infection?\n",
    "<br>└── Fever? → No → Healthy"
   ]
  },
  {
   "cell_type": "code",
   "execution_count": 5,
   "id": "aef4c4c3",
   "metadata": {},
   "outputs": [
    {
     "name": "stdout",
     "output_type": "stream",
     "text": [
      "Do you have a fever? (yes/no): yes\n",
      "Do you have a cough? (yes/no): no\n",
      "Diagnosis: Possible infection.\n"
     ]
    }
   ],
   "source": [
    "# A bonus\n",
    "# Define decision tree for medical diagnosis\n",
    "class DecisionNode:\n",
    "    def __init__(self, question_or_diagnosis, is_decision=True):\n",
    "        self.question = question_or_diagnosis\n",
    "        self.is_decision = is_decision  # False = leaf (diagnosis)\n",
    "        self.yes = None\n",
    "        self.no = None\n",
    "\n",
    "    def add_yes(self, node): self.yes = node\n",
    "    def add_no(self, node): self.no = node\n",
    "\n",
    "    def diagnose(self):\n",
    "        if not self.is_decision:\n",
    "            return self.question  # Diagnosis (leaf)\n",
    "        \n",
    "        answer = input(f\"{self.question} (yes/no): \").strip().lower()\n",
    "        if answer == 'yes' and self.yes:\n",
    "            return self.yes.diagnose()\n",
    "        elif answer == 'no' and self.no:\n",
    "            return self.no.diagnose()\n",
    "        else:\n",
    "            return \"Unknown\"\n",
    "        \n",
    "#-------------------------\n",
    "# Build tree\n",
    "root = DecisionNode(\"Do you have a fever?\", True)\n",
    "has_fever = DecisionNode(\"Do you have a cough?\", True)\n",
    "flu = DecisionNode(\"You may have the flu.\", False)\n",
    "infection = DecisionNode(\"Possible infection.\", False)\n",
    "healthy = DecisionNode(\"You're likely healthy.\", False)\n",
    "\n",
    "root.add_yes(has_fever)\n",
    "root.add_no(healthy)\n",
    "has_fever.add_yes(flu)\n",
    "has_fever.add_no(infection)\n",
    "#---------------------------------\n",
    "# Uncomment to run: \n",
    "print(\"Diagnosis:\", root.diagnose())"
   ]
  },
  {
   "cell_type": "code",
   "execution_count": null,
   "id": "5e072048",
   "metadata": {},
   "outputs": [],
   "source": []
  }
 ],
 "metadata": {
  "kernelspec": {
   "display_name": "Python 3 (ipykernel)",
   "language": "python",
   "name": "python3"
  },
  "language_info": {
   "codemirror_mode": {
    "name": "ipython",
    "version": 3
   },
   "file_extension": ".py",
   "mimetype": "text/x-python",
   "name": "python",
   "nbconvert_exporter": "python",
   "pygments_lexer": "ipython3",
   "version": "3.11.1"
  }
 },
 "nbformat": 4,
 "nbformat_minor": 5
}
