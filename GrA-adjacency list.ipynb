{
 "cells": [
  {
   "cell_type": "markdown",
   "id": "10b8c967",
   "metadata": {},
   "source": [
    "# Graph Analysis\n",
    "### Adjacency list\n",
    "An **adjacency list** is a way to represent a graph. It is a list of nodes of the graph such that each node in the list contains its neghbors. Adjacency lists are specially useful for **sparse graphs** where the number of edges is much less than the maximum possible. \n",
    " - In **undirected** graphs, for each edge $(u,v)$, both $u$ and $v$ appear in each other's lists.\n",
    " - In **directed** graphs, for each directed edge $u→v$, node $v$ appears in $u$'s list, but not necessarily vice versa.\n",
    " - In **weighted** graphs, each list element is a tuple $(neighbor,weight)$.\n",
    " \n",
    "<hr>\n",
    "\n",
    "**Reminder:** It is mentioned that we have already talked about **adjacency matrix**, which is another way to represents graphs.\n",
    "<hr>\n",
    "\n",
    "In the following, we define our own class for holding a graph, which uses an *adjacency list* defined by `defaultdict` in Python. Then, we create two graphs with this class. Finally, we provide a Python funcion that converts our graph into **NetworkX** graph and use it to display our graph.\n",
    "\n",
    "<hr>\n",
    "\n",
    "https://github.com/ostad-ai/Graph-Analysis\n",
    "<br>Explanation in English :https://www.pinterest.com/HamedShahHosseini/graph-analysis/"
   ]
  },
  {
   "cell_type": "code",
   "execution_count": 1,
   "id": "c64c5e15",
   "metadata": {},
   "outputs": [],
   "source": [
    "# Import required modules\n",
    "from collections import defaultdict\n",
    "# Import for displaying the graph\n",
    "import networkx as nx\n",
    "import matplotlib.pyplot as plt"
   ]
  },
  {
   "cell_type": "code",
   "execution_count": 2,
   "id": "71d607d1",
   "metadata": {},
   "outputs": [],
   "source": [
    "# Define the class Graph, which holds the adjacency list\n",
    "# It supports, undirected, directed, and weighted graphs\n",
    "class Graph:\n",
    "    def __init__(self, directed=False):\n",
    "        self.graph = defaultdict(list) # adjacency list\n",
    "        self.directed = directed # #undirected or directed\n",
    "        \n",
    "    def add_edge(self, u, v, weight=None):\n",
    "        \"\"\"Add an edge from u to v.\"\"\"\n",
    "        if weight is None:\n",
    "            self.graph[u].append(v)\n",
    "        else:\n",
    "            self.graph[u].append((v, weight))\n",
    "            \n",
    "        # If undirected, add reverse edge\n",
    "        if not self.directed:\n",
    "            if weight is None:\n",
    "                self.graph[v].append(u)\n",
    "            else:\n",
    "                self.graph[v].append((u, weight))\n",
    "    \n",
    "    def get_neighbors(self, v):\n",
    "        \"\"\"Get all neighbors of vertex v.\"\"\"\n",
    "        return self.graph.get(v, [])\n",
    "    \n",
    "    def __str__(self):\n",
    "        \"\"\"String representation of the graph.\"\"\"\n",
    "        return \"\\n\".join(f\"{v}: {neighbors}\" for v, neighbors in self.graph.items())"
   ]
  },
  {
   "cell_type": "code",
   "execution_count": 3,
   "id": "26aba64f",
   "metadata": {},
   "outputs": [
    {
     "name": "stdout",
     "output_type": "stream",
     "text": [
      "Undirected Graph:\n",
      "A: ['B']\n",
      "B: ['A', 'C', 'D']\n",
      "C: ['B', 'D']\n",
      "D: ['B', 'C']\n",
      "\n",
      "Directed Weighted Graph:\n",
      "A: [('B', 5), ('C', 2)]\n",
      "B: [('C', 3)]\n"
     ]
    }
   ],
   "source": [
    "# Example usage\n",
    "\n",
    "# Undirected unweighted graph\n",
    "g_undir = Graph(directed=False)\n",
    "g_undir.add_edge('A', 'B')\n",
    "g_undir.add_edge('B', 'C')\n",
    "g_undir.add_edge('B', 'D')\n",
    "g_undir.add_edge('D','C')\n",
    "print(\"Undirected Graph:\")\n",
    "print(g_undir)\n",
    "#-------------------------------\n",
    "# Directed weighted graph\n",
    "g_dir_weighted = Graph(directed=True)\n",
    "g_dir_weighted.add_edge('A', 'B', 5)\n",
    "g_dir_weighted.add_edge('A', 'C', 2)\n",
    "g_dir_weighted.add_edge('B', 'C', 3)\n",
    "\n",
    "print(\"\\nDirected Weighted Graph:\")\n",
    "print( g_dir_weighted)"
   ]
  },
  {
   "cell_type": "code",
   "execution_count": 4,
   "id": "3fbdeba9",
   "metadata": {},
   "outputs": [],
   "source": [
    "# Extra, a function to convert your graph to Networkx\n",
    "def convert_to_networkx(your_graph, directed=False):\n",
    "    \"\"\"\n",
    "    Convert your custom graph to NetworkX format.\n",
    "    your_graph: dict in format {node: [neighbors]}\n",
    "    \"\"\"\n",
    "    if directed:\n",
    "        nx_graph = nx.DiGraph()\n",
    "    else:\n",
    "        nx_graph = nx.Graph()\n",
    "    \n",
    "    for u, neighbors in your_graph.items():\n",
    "        for v in neighbors:\n",
    "            if isinstance(v,tuple):\n",
    "                nx_graph.add_edge(u, v[0],weight=v[1])\n",
    "            else:\n",
    "                nx_graph.add_edge(u, v)\n",
    "    \n",
    "    return nx_graph"
   ]
  },
  {
   "cell_type": "code",
   "execution_count": 5,
   "id": "58d9a8c8",
   "metadata": {},
   "outputs": [
    {
     "data": {
      "image/png": "[encoded data removed]",
      "text/plain": [
       "<Figure size 640x480 with 1 Axes>"
      ]
     },
     "metadata": {},
     "output_type": "display_data"
    }
   ],
   "source": [
    "# Convert your graph to NetworkX style and display it\n",
    "mygraph=g_undir.graph\n",
    "nx_graph = convert_to_networkx(mygraph,directed=False)\n",
    "pos=nx.spring_layout(nx_graph)\n",
    "nx.draw(nx_graph, with_labels=True,node_color='yellow')\n",
    "plt.show()"
   ]
  },
  {
   "cell_type": "code",
   "execution_count": null,
   "id": "70e4aa9e",
   "metadata": {},
   "outputs": [],
   "source": []
  }
 ],
 "metadata": {
  "kernelspec": {
   "display_name": "Python 3 (ipykernel)",
   "language": "python",
   "name": "python3"
  },
  "language_info": {
   "codemirror_mode": {
    "name": "ipython",
    "version": 3
   },
   "file_extension": ".py",
   "mimetype": "text/x-python",
   "name": "python",
   "nbconvert_exporter": "python",
   "pygments_lexer": "ipython3",
   "version": "3.11.1"
  }
 },
 "nbformat": 4,
 "nbformat_minor": 5
}
